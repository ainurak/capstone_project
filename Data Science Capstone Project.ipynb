{
    "nbformat_minor": 1, 
    "cells": [
        {
            "source": "Hi there, I'm Ainur", 
            "cell_type": "markdown", 
            "metadata": {
                "collapsed": true
            }
        }, 
        {
            "source": "This Notebook will be mainly used for my Data Science Capstone Project", 
            "cell_type": "markdown", 
            "metadata": {}
        }, 
        {
            "execution_count": 1, 
            "cell_type": "code", 
            "metadata": {}, 
            "outputs": [], 
            "source": "import pandas as pd"
        }, 
        {
            "execution_count": 3, 
            "cell_type": "code", 
            "metadata": {}, 
            "outputs": [], 
            "source": "import numpy as np"
        }, 
        {
            "execution_count": 4, 
            "cell_type": "code", 
            "metadata": {}, 
            "outputs": [
                {
                    "output_type": "stream", 
                    "name": "stdout", 
                    "text": "Hello Capstone Project Course!\n"
                }
            ], 
            "source": "print ('Hello Capstone Project Course!')"
        }, 
        {
            "source": "<h1>Introduction</h1>", 
            "cell_type": "markdown", 
            "metadata": {}
        }, 
        {
            "source": "<em>Professor from USA was invited to work for University of Toronto, he never been to Toronto and want to know what is the best neighborhood to live in for him while he works in University of Toronto. He wants to live near his work place and he likes coffee and Japanese cuisine as well. In this project I will explore neighborhoods of Toronto and give the best choice for professor.</em>", 
            "cell_type": "markdown", 
            "metadata": {}
        }, 
        {
            "source": "<h1>Data</h1>", 
            "cell_type": "markdown", 
            "metadata": {}
        }, 
        {
            "source": "<em>I haven't ready dataset with Toronto Neighborhood and postal codes, but there is List of postal codes of Canada on Wikipedia page (https://en.wikipedia.org/wiki/List_of_postal_codes_of_Canada:_M), so I will scrap that page using Beautiful Soup library and get necessary information. Then I will use Foursquare API for explore neighborhoods and choose the most appropriate choice to solve the problem.</em>", 
            "cell_type": "markdown", 
            "metadata": {}
        }, 
        {
            "execution_count": null, 
            "cell_type": "code", 
            "metadata": {}, 
            "outputs": [], 
            "source": ""
        }
    ], 
    "metadata": {
        "kernelspec": {
            "display_name": "Python 3.5", 
            "name": "python3", 
            "language": "python"
        }, 
        "language_info": {
            "mimetype": "text/x-python", 
            "nbconvert_exporter": "python", 
            "version": "3.5.5", 
            "name": "python", 
            "file_extension": ".py", 
            "pygments_lexer": "ipython3", 
            "codemirror_mode": {
                "version": 3, 
                "name": "ipython"
            }
        }
    }, 
    "nbformat": 4
}